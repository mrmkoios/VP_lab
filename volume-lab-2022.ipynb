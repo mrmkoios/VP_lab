{
 "cells": [
  {
   "cell_type": "code",
   "execution_count": 1,
   "metadata": {},
   "outputs": [
    {
     "ename": "ModuleNotFoundError",
     "evalue": "No module named 'yfinance'",
     "output_type": "error",
     "traceback": [
      "\u001b[1;31m---------------------------------------------------------------------------\u001b[0m",
      "\u001b[1;31mModuleNotFoundError\u001b[0m                       Traceback (most recent call last)",
      "\u001b[1;32m<ipython-input-1-4d9e43a55d26>\u001b[0m in \u001b[0;36m<module>\u001b[1;34m\u001b[0m\n\u001b[1;32m----> 1\u001b[1;33m \u001b[1;32mimport\u001b[0m \u001b[0myfinance\u001b[0m \u001b[1;32mas\u001b[0m \u001b[0myf\u001b[0m\u001b[1;33m\u001b[0m\u001b[1;33m\u001b[0m\u001b[0m\n\u001b[0m\u001b[0;32m      2\u001b[0m \u001b[1;32mimport\u001b[0m \u001b[0mpandas\u001b[0m \u001b[1;32mas\u001b[0m \u001b[0mpd\u001b[0m\u001b[1;33m\u001b[0m\u001b[1;33m\u001b[0m\u001b[0m\n\u001b[0;32m      3\u001b[0m \u001b[1;32mimport\u001b[0m \u001b[0mmatplotlib\u001b[0m\u001b[1;33m.\u001b[0m\u001b[0mpyplot\u001b[0m \u001b[1;32mas\u001b[0m \u001b[0mplt\u001b[0m\u001b[1;33m\u001b[0m\u001b[1;33m\u001b[0m\u001b[0m\n\u001b[0;32m      4\u001b[0m \u001b[1;32mfrom\u001b[0m \u001b[0mitertools\u001b[0m \u001b[1;32mimport\u001b[0m \u001b[0mproduct\u001b[0m\u001b[1;33m\u001b[0m\u001b[1;33m\u001b[0m\u001b[0m\n\u001b[0;32m      5\u001b[0m \u001b[1;32mimport\u001b[0m \u001b[0mstatsmodels\u001b[0m\u001b[1;33m.\u001b[0m\u001b[0mapi\u001b[0m \u001b[1;32mas\u001b[0m \u001b[0msm\u001b[0m\u001b[1;33m\u001b[0m\u001b[1;33m\u001b[0m\u001b[0m\n",
      "\u001b[1;31mModuleNotFoundError\u001b[0m: No module named 'yfinance'"
     ]
    }
   ],
   "source": [
    "import yfinance as yf\n",
    "import pandas as pd\n",
    "import matplotlib.pyplot as plt\n",
    "from itertools import product\n",
    "import statsmodels.api as sm"
   ]
  },
  {
   "cell_type": "code",
   "execution_count": 2,
   "metadata": {},
   "outputs": [
    {
     "name": "stdout",
     "output_type": "stream",
     "text": [
      "yfinance found: 0.1.69 expected: 0.1.69\n",
      "pandas found: 1.3.5 expected: 1.3.5\n",
      "matplotlib found: 3.5.0 expected: 3.5.0\n",
      "statsmodels found: 0.13.0 expected: 0.13.0\n"
     ]
    }
   ],
   "source": [
    "import matplotlib\n",
    "import statsmodels\n",
    "\n",
    "versions = {\n",
    "    \"yfinance\": yf.__version__,\n",
    "    \"pandas\": pd.__version__,\n",
    "    \"matplotlib\": matplotlib.__version__,\n",
    "    \"statsmodels\": statsmodels.__version__,\n",
    "}\n",
    "expected = {\n",
    "    \"yfinance\": \"0.1.69\",\n",
    "    \"pandas\": \"1.3.5\",\n",
    "    \"matplotlib\": \"3.5.0\",\n",
    "    \"statsmodels\": \"0.13.0\",\n",
    "}\n",
    "\n",
    "for lib in versions.keys():\n",
    "    print(lib, \"found:\", versions[lib], \"expected:\", expected[lib])"
   ]
  },
  {
   "cell_type": "markdown",
   "metadata": {},
   "source": [
    "If there are any issues with the code try to update modules to match expected versions."
   ]
  },
  {
   "cell_type": "markdown",
   "metadata": {},
   "source": [
    "# Introduction\n",
    "\n",
    "We will implement volume forecasting model based on a book *Algorithmic Trading Methods* (2021) by Robert Kissel.\n",
    "\n",
    "We will be using very limited set of data from Yahoo! Finance for simplicity. \n",
    "\n",
    "Model consists of three components:\n",
    "  - aggregation component\n",
    "  - day of the week component\n",
    "  - autoregressive error component\n",
    "  \n",
    "so we will see how each component affects model performance.\n",
    "\n",
    "Model is formulated in the following way:\n",
    "\n",
    "$$\\hat{V_t} = \\bar{V}_t(n) * DoW(t) * \\frac{1}{1 +  \\beta_{0} + \\beta_{1}{\\epsilon}_{t-1}}$$\n",
    "\n",
    "where:\n",
    "- $\\hat{V}_t$ - volume forecast for day t,\n",
    "- $\\bar{V}_t(n)$ - median, mean or other aggregation function computed over last n trading days,\n",
    "- $DoW(t)$ - Day-of-Week effect, how much of average weekly volume typically trades on a particular day of week,\n",
    "- $\\hat{\\beta}$ - estimates of autoregressive term from AR(1) component,\n",
    "- ${\\epsilon}_{t-1}$ - prediction error on previous day."
   ]
  },
  {
   "cell_type": "markdown",
   "metadata": {},
   "source": [
    "# Getting data\n",
    "\n"
   ]
  },
  {
   "cell_type": "markdown",
   "metadata": {},
   "source": [
    "We will use data for **FAANG** stocks:\n",
    "  - **F**acebook (Meta),\n",
    "  - **A**pple,\n",
    "  - **A**mazon,\n",
    "  - **N**etflix,\n",
    "  - **G**oogle (Alphabet)\n",
    "\n",
    "from 1st Jan 2017 to 31st Dec 2021.\n",
    "\n",
    "We will download them from Yahoo! Finance API using yfinance package."
   ]
  },
  {
   "cell_type": "code",
   "execution_count": 3,
   "metadata": {},
   "outputs": [
    {
     "name": "stdout",
     "output_type": "stream",
     "text": [
      "[*********************100%***********************]  5 of 5 completed\n"
     ]
    },
    {
     "data": {
      "text/html": [
       "<div>\n",
       "<style scoped>\n",
       "    .dataframe tbody tr th:only-of-type {\n",
       "        vertical-align: middle;\n",
       "    }\n",
       "\n",
       "    .dataframe tbody tr th {\n",
       "        vertical-align: top;\n",
       "    }\n",
       "\n",
       "    .dataframe thead tr th {\n",
       "        text-align: left;\n",
       "    }\n",
       "\n",
       "    .dataframe thead tr:last-of-type th {\n",
       "        text-align: right;\n",
       "    }\n",
       "</style>\n",
       "<table border=\"1\" class=\"dataframe\">\n",
       "  <thead>\n",
       "    <tr>\n",
       "      <th></th>\n",
       "      <th colspan=\"5\" halign=\"left\">Close</th>\n",
       "      <th colspan=\"5\" halign=\"left\">Dividends</th>\n",
       "      <th>...</th>\n",
       "      <th colspan=\"5\" halign=\"left\">Stock Splits</th>\n",
       "      <th colspan=\"5\" halign=\"left\">Volume</th>\n",
       "    </tr>\n",
       "    <tr>\n",
       "      <th></th>\n",
       "      <th>AAPL</th>\n",
       "      <th>AMZN</th>\n",
       "      <th>FB</th>\n",
       "      <th>GOOG</th>\n",
       "      <th>NFLX</th>\n",
       "      <th>AAPL</th>\n",
       "      <th>AMZN</th>\n",
       "      <th>FB</th>\n",
       "      <th>GOOG</th>\n",
       "      <th>NFLX</th>\n",
       "      <th>...</th>\n",
       "      <th>AAPL</th>\n",
       "      <th>AMZN</th>\n",
       "      <th>FB</th>\n",
       "      <th>GOOG</th>\n",
       "      <th>NFLX</th>\n",
       "      <th>AAPL</th>\n",
       "      <th>AMZN</th>\n",
       "      <th>FB</th>\n",
       "      <th>GOOG</th>\n",
       "      <th>NFLX</th>\n",
       "    </tr>\n",
       "    <tr>\n",
       "      <th>Date</th>\n",
       "      <th></th>\n",
       "      <th></th>\n",
       "      <th></th>\n",
       "      <th></th>\n",
       "      <th></th>\n",
       "      <th></th>\n",
       "      <th></th>\n",
       "      <th></th>\n",
       "      <th></th>\n",
       "      <th></th>\n",
       "      <th></th>\n",
       "      <th></th>\n",
       "      <th></th>\n",
       "      <th></th>\n",
       "      <th></th>\n",
       "      <th></th>\n",
       "      <th></th>\n",
       "      <th></th>\n",
       "      <th></th>\n",
       "      <th></th>\n",
       "      <th></th>\n",
       "    </tr>\n",
       "  </thead>\n",
       "  <tbody>\n",
       "    <tr>\n",
       "      <th>2017-01-03</th>\n",
       "      <td>27.332470</td>\n",
       "      <td>753.669983</td>\n",
       "      <td>116.860001</td>\n",
       "      <td>786.140015</td>\n",
       "      <td>127.489998</td>\n",
       "      <td>0.0</td>\n",
       "      <td>0</td>\n",
       "      <td>0</td>\n",
       "      <td>0</td>\n",
       "      <td>0</td>\n",
       "      <td>...</td>\n",
       "      <td>0.0</td>\n",
       "      <td>0</td>\n",
       "      <td>0</td>\n",
       "      <td>0</td>\n",
       "      <td>0</td>\n",
       "      <td>115127600</td>\n",
       "      <td>3521100</td>\n",
       "      <td>20663900</td>\n",
       "      <td>1657300</td>\n",
       "      <td>9437900</td>\n",
       "    </tr>\n",
       "    <tr>\n",
       "      <th>2017-01-04</th>\n",
       "      <td>27.301878</td>\n",
       "      <td>757.179993</td>\n",
       "      <td>118.690002</td>\n",
       "      <td>786.900024</td>\n",
       "      <td>129.410004</td>\n",
       "      <td>0.0</td>\n",
       "      <td>0</td>\n",
       "      <td>0</td>\n",
       "      <td>0</td>\n",
       "      <td>0</td>\n",
       "      <td>...</td>\n",
       "      <td>0.0</td>\n",
       "      <td>0</td>\n",
       "      <td>0</td>\n",
       "      <td>0</td>\n",
       "      <td>0</td>\n",
       "      <td>84472400</td>\n",
       "      <td>2510500</td>\n",
       "      <td>19630900</td>\n",
       "      <td>1073000</td>\n",
       "      <td>7843600</td>\n",
       "    </tr>\n",
       "    <tr>\n",
       "      <th>2017-01-05</th>\n",
       "      <td>27.440720</td>\n",
       "      <td>780.450012</td>\n",
       "      <td>120.669998</td>\n",
       "      <td>794.020020</td>\n",
       "      <td>131.809998</td>\n",
       "      <td>0.0</td>\n",
       "      <td>0</td>\n",
       "      <td>0</td>\n",
       "      <td>0</td>\n",
       "      <td>0</td>\n",
       "      <td>...</td>\n",
       "      <td>0.0</td>\n",
       "      <td>0</td>\n",
       "      <td>0</td>\n",
       "      <td>0</td>\n",
       "      <td>0</td>\n",
       "      <td>88774400</td>\n",
       "      <td>5830100</td>\n",
       "      <td>19492200</td>\n",
       "      <td>1335200</td>\n",
       "      <td>10185500</td>\n",
       "    </tr>\n",
       "    <tr>\n",
       "      <th>2017-01-06</th>\n",
       "      <td>27.746635</td>\n",
       "      <td>795.989990</td>\n",
       "      <td>123.410004</td>\n",
       "      <td>806.150024</td>\n",
       "      <td>131.070007</td>\n",
       "      <td>0.0</td>\n",
       "      <td>0</td>\n",
       "      <td>0</td>\n",
       "      <td>0</td>\n",
       "      <td>0</td>\n",
       "      <td>...</td>\n",
       "      <td>0.0</td>\n",
       "      <td>0</td>\n",
       "      <td>0</td>\n",
       "      <td>0</td>\n",
       "      <td>0</td>\n",
       "      <td>127007600</td>\n",
       "      <td>5986200</td>\n",
       "      <td>28545300</td>\n",
       "      <td>1640200</td>\n",
       "      <td>10657900</td>\n",
       "    </tr>\n",
       "    <tr>\n",
       "      <th>2017-01-09</th>\n",
       "      <td>28.000784</td>\n",
       "      <td>796.919983</td>\n",
       "      <td>124.900002</td>\n",
       "      <td>806.650024</td>\n",
       "      <td>130.949997</td>\n",
       "      <td>0.0</td>\n",
       "      <td>0</td>\n",
       "      <td>0</td>\n",
       "      <td>0</td>\n",
       "      <td>0</td>\n",
       "      <td>...</td>\n",
       "      <td>0.0</td>\n",
       "      <td>0</td>\n",
       "      <td>0</td>\n",
       "      <td>0</td>\n",
       "      <td>0</td>\n",
       "      <td>134247600</td>\n",
       "      <td>3446100</td>\n",
       "      <td>22880400</td>\n",
       "      <td>1274600</td>\n",
       "      <td>5771800</td>\n",
       "    </tr>\n",
       "    <tr>\n",
       "      <th>...</th>\n",
       "      <td>...</td>\n",
       "      <td>...</td>\n",
       "      <td>...</td>\n",
       "      <td>...</td>\n",
       "      <td>...</td>\n",
       "      <td>...</td>\n",
       "      <td>...</td>\n",
       "      <td>...</td>\n",
       "      <td>...</td>\n",
       "      <td>...</td>\n",
       "      <td>...</td>\n",
       "      <td>...</td>\n",
       "      <td>...</td>\n",
       "      <td>...</td>\n",
       "      <td>...</td>\n",
       "      <td>...</td>\n",
       "      <td>...</td>\n",
       "      <td>...</td>\n",
       "      <td>...</td>\n",
       "      <td>...</td>\n",
       "      <td>...</td>\n",
       "    </tr>\n",
       "    <tr>\n",
       "      <th>2021-12-23</th>\n",
       "      <td>176.279999</td>\n",
       "      <td>3421.370117</td>\n",
       "      <td>335.239990</td>\n",
       "      <td>2942.850098</td>\n",
       "      <td>614.090027</td>\n",
       "      <td>0.0</td>\n",
       "      <td>0</td>\n",
       "      <td>0</td>\n",
       "      <td>0</td>\n",
       "      <td>0</td>\n",
       "      <td>...</td>\n",
       "      <td>0.0</td>\n",
       "      <td>0</td>\n",
       "      <td>0</td>\n",
       "      <td>0</td>\n",
       "      <td>0</td>\n",
       "      <td>68356600</td>\n",
       "      <td>1839400</td>\n",
       "      <td>13987700</td>\n",
       "      <td>690900</td>\n",
       "      <td>1621100</td>\n",
       "    </tr>\n",
       "    <tr>\n",
       "      <th>2021-12-27</th>\n",
       "      <td>180.330002</td>\n",
       "      <td>3393.389893</td>\n",
       "      <td>346.179993</td>\n",
       "      <td>2961.280029</td>\n",
       "      <td>613.119995</td>\n",
       "      <td>0.0</td>\n",
       "      <td>0</td>\n",
       "      <td>0</td>\n",
       "      <td>0</td>\n",
       "      <td>0</td>\n",
       "      <td>...</td>\n",
       "      <td>0.0</td>\n",
       "      <td>0</td>\n",
       "      <td>0</td>\n",
       "      <td>0</td>\n",
       "      <td>0</td>\n",
       "      <td>74919600</td>\n",
       "      <td>2934400</td>\n",
       "      <td>17795000</td>\n",
       "      <td>662800</td>\n",
       "      <td>2061500</td>\n",
       "    </tr>\n",
       "    <tr>\n",
       "      <th>2021-12-28</th>\n",
       "      <td>179.289993</td>\n",
       "      <td>3413.219971</td>\n",
       "      <td>346.220001</td>\n",
       "      <td>2928.959961</td>\n",
       "      <td>610.710022</td>\n",
       "      <td>0.0</td>\n",
       "      <td>0</td>\n",
       "      <td>0</td>\n",
       "      <td>0</td>\n",
       "      <td>0</td>\n",
       "      <td>...</td>\n",
       "      <td>0.0</td>\n",
       "      <td>0</td>\n",
       "      <td>0</td>\n",
       "      <td>0</td>\n",
       "      <td>0</td>\n",
       "      <td>79144300</td>\n",
       "      <td>2731900</td>\n",
       "      <td>16637600</td>\n",
       "      <td>931200</td>\n",
       "      <td>1882800</td>\n",
       "    </tr>\n",
       "    <tr>\n",
       "      <th>2021-12-29</th>\n",
       "      <td>179.380005</td>\n",
       "      <td>3384.020020</td>\n",
       "      <td>342.940002</td>\n",
       "      <td>2930.090088</td>\n",
       "      <td>610.539978</td>\n",
       "      <td>0.0</td>\n",
       "      <td>0</td>\n",
       "      <td>0</td>\n",
       "      <td>0</td>\n",
       "      <td>0</td>\n",
       "      <td>...</td>\n",
       "      <td>0.0</td>\n",
       "      <td>0</td>\n",
       "      <td>0</td>\n",
       "      <td>0</td>\n",
       "      <td>0</td>\n",
       "      <td>62348900</td>\n",
       "      <td>1787700</td>\n",
       "      <td>10747000</td>\n",
       "      <td>851100</td>\n",
       "      <td>1287200</td>\n",
       "    </tr>\n",
       "    <tr>\n",
       "      <th>2021-12-30</th>\n",
       "      <td>178.199997</td>\n",
       "      <td>3372.889893</td>\n",
       "      <td>344.359985</td>\n",
       "      <td>2920.050049</td>\n",
       "      <td>612.090027</td>\n",
       "      <td>0.0</td>\n",
       "      <td>0</td>\n",
       "      <td>0</td>\n",
       "      <td>0</td>\n",
       "      <td>0</td>\n",
       "      <td>...</td>\n",
       "      <td>0.0</td>\n",
       "      <td>0</td>\n",
       "      <td>0</td>\n",
       "      <td>0</td>\n",
       "      <td>0</td>\n",
       "      <td>59773000</td>\n",
       "      <td>1879200</td>\n",
       "      <td>10593300</td>\n",
       "      <td>648900</td>\n",
       "      <td>1625100</td>\n",
       "    </tr>\n",
       "  </tbody>\n",
       "</table>\n",
       "<p>1258 rows × 35 columns</p>\n",
       "</div>"
      ],
      "text/plain": [
       "                 Close                                                    \\\n",
       "                  AAPL         AMZN          FB         GOOG        NFLX   \n",
       "Date                                                                       \n",
       "2017-01-03   27.332470   753.669983  116.860001   786.140015  127.489998   \n",
       "2017-01-04   27.301878   757.179993  118.690002   786.900024  129.410004   \n",
       "2017-01-05   27.440720   780.450012  120.669998   794.020020  131.809998   \n",
       "2017-01-06   27.746635   795.989990  123.410004   806.150024  131.070007   \n",
       "2017-01-09   28.000784   796.919983  124.900002   806.650024  130.949997   \n",
       "...                ...          ...         ...          ...         ...   \n",
       "2021-12-23  176.279999  3421.370117  335.239990  2942.850098  614.090027   \n",
       "2021-12-27  180.330002  3393.389893  346.179993  2961.280029  613.119995   \n",
       "2021-12-28  179.289993  3413.219971  346.220001  2928.959961  610.710022   \n",
       "2021-12-29  179.380005  3384.020020  342.940002  2930.090088  610.539978   \n",
       "2021-12-30  178.199997  3372.889893  344.359985  2920.050049  612.090027   \n",
       "\n",
       "           Dividends                    ... Stock Splits                    \\\n",
       "                AAPL AMZN FB GOOG NFLX  ...         AAPL AMZN FB GOOG NFLX   \n",
       "Date                                    ...                                  \n",
       "2017-01-03       0.0    0  0    0    0  ...          0.0    0  0    0    0   \n",
       "2017-01-04       0.0    0  0    0    0  ...          0.0    0  0    0    0   \n",
       "2017-01-05       0.0    0  0    0    0  ...          0.0    0  0    0    0   \n",
       "2017-01-06       0.0    0  0    0    0  ...          0.0    0  0    0    0   \n",
       "2017-01-09       0.0    0  0    0    0  ...          0.0    0  0    0    0   \n",
       "...              ...  ... ..  ...  ...  ...          ...  ... ..  ...  ...   \n",
       "2021-12-23       0.0    0  0    0    0  ...          0.0    0  0    0    0   \n",
       "2021-12-27       0.0    0  0    0    0  ...          0.0    0  0    0    0   \n",
       "2021-12-28       0.0    0  0    0    0  ...          0.0    0  0    0    0   \n",
       "2021-12-29       0.0    0  0    0    0  ...          0.0    0  0    0    0   \n",
       "2021-12-30       0.0    0  0    0    0  ...          0.0    0  0    0    0   \n",
       "\n",
       "               Volume                                        \n",
       "                 AAPL     AMZN        FB     GOOG      NFLX  \n",
       "Date                                                         \n",
       "2017-01-03  115127600  3521100  20663900  1657300   9437900  \n",
       "2017-01-04   84472400  2510500  19630900  1073000   7843600  \n",
       "2017-01-05   88774400  5830100  19492200  1335200  10185500  \n",
       "2017-01-06  127007600  5986200  28545300  1640200  10657900  \n",
       "2017-01-09  134247600  3446100  22880400  1274600   5771800  \n",
       "...               ...      ...       ...      ...       ...  \n",
       "2021-12-23   68356600  1839400  13987700   690900   1621100  \n",
       "2021-12-27   74919600  2934400  17795000   662800   2061500  \n",
       "2021-12-28   79144300  2731900  16637600   931200   1882800  \n",
       "2021-12-29   62348900  1787700  10747000   851100   1287200  \n",
       "2021-12-30   59773000  1879200  10593300   648900   1625100  \n",
       "\n",
       "[1258 rows x 35 columns]"
      ]
     },
     "execution_count": 3,
     "metadata": {},
     "output_type": "execute_result"
    }
   ],
   "source": [
    "faang_tickers = [\"META\", \"AAPL\", \"AMZN\", \"NFLX\", \"GOOG\"]\n",
    "try:\n",
    "    faang = yf.Tickers(faang_tickers)\n",
    "    faang_data = faang.history(start=\"2017-01-01\", end=\"2021-12-31\")\n",
    "except Exception:\n",
    "    faang_data = pd.read_csv(\n",
    "        \"data/faang.csv\", header=[0, 1], index_col=0, parse_dates=[0]\n",
    "    )\n",
    "\n",
    "faang_data"
   ]
  },
  {
   "cell_type": "markdown",
   "metadata": {},
   "source": [
    "Data is organised with dates in rows and some daily information on stocks as nested columns representing variables observed for our stocks. We are only going to use volume data (last column), however, you could also try to use both price and volume data to predict volumes. \n",
    "\n",
    "Other variables in the dataset include e.g. close price (last trading price of this day), dividends (if they were paid to stakeholders) and stocks splits (if shares issued were multiplied).\n",
    "\n",
    "Let's have a brief look at our volume data. \n",
    "We can immediately see that there are quite large differences between stock's trading volumes. \n",
    "Apple seems to have the largest trading volume, while Google seems to have the smallest. "
   ]
  },
  {
   "cell_type": "code",
   "execution_count": 4,
   "metadata": {},
   "outputs": [
    {
     "data": {
      "text/html": [
       "<div>\n",
       "<style scoped>\n",
       "    .dataframe tbody tr th:only-of-type {\n",
       "        vertical-align: middle;\n",
       "    }\n",
       "\n",
       "    .dataframe tbody tr th {\n",
       "        vertical-align: top;\n",
       "    }\n",
       "\n",
       "    .dataframe thead th {\n",
       "        text-align: right;\n",
       "    }\n",
       "</style>\n",
       "<table border=\"1\" class=\"dataframe\">\n",
       "  <thead>\n",
       "    <tr style=\"text-align: right;\">\n",
       "      <th></th>\n",
       "      <th>AAPL</th>\n",
       "      <th>AMZN</th>\n",
       "      <th>FB</th>\n",
       "      <th>GOOG</th>\n",
       "      <th>NFLX</th>\n",
       "    </tr>\n",
       "    <tr>\n",
       "      <th>Date</th>\n",
       "      <th></th>\n",
       "      <th></th>\n",
       "      <th></th>\n",
       "      <th></th>\n",
       "      <th></th>\n",
       "    </tr>\n",
       "  </thead>\n",
       "  <tbody>\n",
       "    <tr>\n",
       "      <th>2017-01-03</th>\n",
       "      <td>115127600</td>\n",
       "      <td>3521100</td>\n",
       "      <td>20663900</td>\n",
       "      <td>1657300</td>\n",
       "      <td>9437900</td>\n",
       "    </tr>\n",
       "    <tr>\n",
       "      <th>2017-01-04</th>\n",
       "      <td>84472400</td>\n",
       "      <td>2510500</td>\n",
       "      <td>19630900</td>\n",
       "      <td>1073000</td>\n",
       "      <td>7843600</td>\n",
       "    </tr>\n",
       "    <tr>\n",
       "      <th>2017-01-05</th>\n",
       "      <td>88774400</td>\n",
       "      <td>5830100</td>\n",
       "      <td>19492200</td>\n",
       "      <td>1335200</td>\n",
       "      <td>10185500</td>\n",
       "    </tr>\n",
       "    <tr>\n",
       "      <th>2017-01-06</th>\n",
       "      <td>127007600</td>\n",
       "      <td>5986200</td>\n",
       "      <td>28545300</td>\n",
       "      <td>1640200</td>\n",
       "      <td>10657900</td>\n",
       "    </tr>\n",
       "    <tr>\n",
       "      <th>2017-01-09</th>\n",
       "      <td>134247600</td>\n",
       "      <td>3446100</td>\n",
       "      <td>22880400</td>\n",
       "      <td>1274600</td>\n",
       "      <td>5771800</td>\n",
       "    </tr>\n",
       "    <tr>\n",
       "      <th>...</th>\n",
       "      <td>...</td>\n",
       "      <td>...</td>\n",
       "      <td>...</td>\n",
       "      <td>...</td>\n",
       "      <td>...</td>\n",
       "    </tr>\n",
       "    <tr>\n",
       "      <th>2021-12-23</th>\n",
       "      <td>68356600</td>\n",
       "      <td>1839400</td>\n",
       "      <td>13987700</td>\n",
       "      <td>690900</td>\n",
       "      <td>1621100</td>\n",
       "    </tr>\n",
       "    <tr>\n",
       "      <th>2021-12-27</th>\n",
       "      <td>74919600</td>\n",
       "      <td>2934400</td>\n",
       "      <td>17795000</td>\n",
       "      <td>662800</td>\n",
       "      <td>2061500</td>\n",
       "    </tr>\n",
       "    <tr>\n",
       "      <th>2021-12-28</th>\n",
       "      <td>79144300</td>\n",
       "      <td>2731900</td>\n",
       "      <td>16637600</td>\n",
       "      <td>931200</td>\n",
       "      <td>1882800</td>\n",
       "    </tr>\n",
       "    <tr>\n",
       "      <th>2021-12-29</th>\n",
       "      <td>62348900</td>\n",
       "      <td>1787700</td>\n",
       "      <td>10747000</td>\n",
       "      <td>851100</td>\n",
       "      <td>1287200</td>\n",
       "    </tr>\n",
       "    <tr>\n",
       "      <th>2021-12-30</th>\n",
       "      <td>59773000</td>\n",
       "      <td>1879200</td>\n",
       "      <td>10593300</td>\n",
       "      <td>648900</td>\n",
       "      <td>1625100</td>\n",
       "    </tr>\n",
       "  </tbody>\n",
       "</table>\n",
       "<p>1258 rows × 5 columns</p>\n",
       "</div>"
      ],
      "text/plain": [
       "                 AAPL     AMZN        FB     GOOG      NFLX\n",
       "Date                                                       \n",
       "2017-01-03  115127600  3521100  20663900  1657300   9437900\n",
       "2017-01-04   84472400  2510500  19630900  1073000   7843600\n",
       "2017-01-05   88774400  5830100  19492200  1335200  10185500\n",
       "2017-01-06  127007600  5986200  28545300  1640200  10657900\n",
       "2017-01-09  134247600  3446100  22880400  1274600   5771800\n",
       "...               ...      ...       ...      ...       ...\n",
       "2021-12-23   68356600  1839400  13987700   690900   1621100\n",
       "2021-12-27   74919600  2934400  17795000   662800   2061500\n",
       "2021-12-28   79144300  2731900  16637600   931200   1882800\n",
       "2021-12-29   62348900  1787700  10747000   851100   1287200\n",
       "2021-12-30   59773000  1879200  10593300   648900   1625100\n",
       "\n",
       "[1258 rows x 5 columns]"
      ]
     },
     "execution_count": 4,
     "metadata": {},
     "output_type": "execute_result"
    }
   ],
   "source": [
    "faang_data.loc[:, \"Volume\"]"
   ]
  },
  {
   "cell_type": "code",
   "execution_count": 5,
   "metadata": {},
   "outputs": [
    {
     "data": {
      "text/plain": [
       "<AxesSubplot:xlabel='Date'>"
      ]
     },
     "execution_count": 5,
     "metadata": {},
     "output_type": "execute_result"
    },
    {
     "data": {
      "image/png": "[encoded data removed]",
      "text/plain": [
       "<Figure size 1152x576 with 1 Axes>"
      ]
     },
     "metadata": {
      "needs_background": "light"
     },
     "output_type": "display_data"
    }
   ],
   "source": [
    "faang_data.loc[:, \"Volume\"].plot(figsize=(16, 8))"
   ]
  },
  {
   "cell_type": "markdown",
   "metadata": {},
   "source": [
    "We can also see that there are periods where multiple stocks experience increased volumes.\n",
    "\n",
    "But sometimes these \"shocks\" affect only individual stocks."
   ]
  },
  {
   "cell_type": "code",
   "execution_count": 6,
   "metadata": {},
   "outputs": [
    {
     "data": {
      "text/plain": [
       "array([<AxesSubplot:xlabel='Date'>, <AxesSubplot:xlabel='Date'>,\n",
       "       <AxesSubplot:xlabel='Date'>, <AxesSubplot:xlabel='Date'>,\n",
       "       <AxesSubplot:xlabel='Date'>], dtype=object)"
      ]
     },
     "execution_count": 6,
     "metadata": {},
     "output_type": "execute_result"
    },
    {
     "data": {
      "image/png": "[encoded data removed]",
      "text/plain": [
       "<Figure size 1152x576 with 5 Axes>"
      ]
     },
     "metadata": {
      "needs_background": "light"
     },
     "output_type": "display_data"
    }
   ],
   "source": [
    "faang_data.loc[:, \"Volume\"].plot(subplots=True, figsize=(16, 8))"
   ]
  },
  {
   "cell_type": "markdown",
   "metadata": {},
   "source": [
    "We will work with data in a \"long\" format"
   ]
  },
  {
   "cell_type": "code",
   "execution_count": 7,
   "metadata": {},
   "outputs": [
    {
     "data": {
      "text/plain": [
       "date        symbol\n",
       "2017-01-03  AAPL      115127600\n",
       "            AMZN        3521100\n",
       "            FB         20663900\n",
       "            GOOG        1657300\n",
       "            NFLX        9437900\n",
       "                        ...    \n",
       "2021-12-30  AAPL       59773000\n",
       "            AMZN        1879200\n",
       "            FB         10593300\n",
       "            GOOG         648900\n",
       "            NFLX        1625100\n",
       "Name: volume, Length: 6290, dtype: int64"
      ]
     },
     "execution_count": 7,
     "metadata": {},
     "output_type": "execute_result"
    }
   ],
   "source": [
    "faang_volume = faang_data.loc[:, \"Volume\"].melt(\n",
    "    var_name=\"symbol\", value_name=\"volume\", ignore_index=False\n",
    ")\n",
    "faang_volume.index.name = faang_volume.index.name.lower()\n",
    "faang_volume = (\n",
    "    faang_volume.reset_index().set_index([\"date\", \"symbol\"]).sort_index().squeeze()\n",
    ")\n",
    "faang_volume"
   ]
  },
  {
   "cell_type": "markdown",
   "metadata": {},
   "source": [
    "# Train-test split\n",
    "\n",
    "In order, to properly assess model performance we will need to split our data into train (in-sample) and test (out-of-sample) datasets.\n",
    "\n",
    "Since we are working with time series data, we will split it chronologically 4:1."
   ]
  },
  {
   "cell_type": "code",
   "execution_count": 8,
   "metadata": {},
   "outputs": [
    {
     "data": {
      "text/plain": [
       "date        symbol\n",
       "2017-01-03  AAPL      115127600\n",
       "            AMZN        3521100\n",
       "            FB         20663900\n",
       "            GOOG        1657300\n",
       "            NFLX        9437900\n",
       "                        ...    \n",
       "2020-12-31  AAPL       99116600\n",
       "            AMZN        2957200\n",
       "            FB         12900400\n",
       "            GOOG        1011900\n",
       "            NFLX        5392300\n",
       "Name: volume, Length: 5035, dtype: int64"
      ]
     },
     "execution_count": 8,
     "metadata": {},
     "output_type": "execute_result"
    }
   ],
   "source": [
    "train = faang_volume.loc[: pd.Timestamp(\"2020-12-31\")]\n",
    "train"
   ]
  },
  {
   "cell_type": "code",
   "execution_count": 9,
   "metadata": {},
   "outputs": [
    {
     "data": {
      "text/plain": [
       "date        symbol\n",
       "2021-01-04  AAPL      143301900\n",
       "            AMZN        4411400\n",
       "            FB         15106100\n",
       "            GOOG        1901900\n",
       "            NFLX        4444400\n",
       "                        ...    \n",
       "2021-12-30  AAPL       59773000\n",
       "            AMZN        1879200\n",
       "            FB         10593300\n",
       "            GOOG         648900\n",
       "            NFLX        1625100\n",
       "Name: volume, Length: 1255, dtype: int64"
      ]
     },
     "execution_count": 9,
     "metadata": {},
     "output_type": "execute_result"
    }
   ],
   "source": [
    "test = faang_volume.loc[pd.Timestamp(\"2021-01-01\") :]\n",
    "test"
   ]
  },
  {
   "cell_type": "markdown",
   "metadata": {},
   "source": [
    "# Common model for all stocks"
   ]
  },
  {
   "cell_type": "markdown",
   "metadata": {},
   "source": [
    "We will use Absolute Percentage Error as our performance metric in order to make the metric comparable between stocks.\n",
    "If we had used metriclike Mean Squared Error errors, stocks with larger volumes (like Apple) would dominate our aggregated metrics.\n",
    "\n",
    "$$APE = \\left|\\frac{pred - true}{true}\\right|$$ "
   ]
  },
  {
   "cell_type": "code",
   "execution_count": 10,
   "metadata": {},
   "outputs": [],
   "source": [
    "def perc_error(pred, true):\n",
    "    \"\"\"Calculates percentage error between predictions and true values. \n",
    "    \n",
    "    Positive values indicates overestimation.\n",
    "\n",
    "    Parameters\n",
    "    ----------\n",
    "    pred : pd.Series\n",
    "        predicted values\n",
    "    true : pd.Series\n",
    "        true values\n",
    "\n",
    "    Returns\n",
    "    -------\n",
    "    pd.Series\n",
    "        percentage error\n",
    "    \"\"\"    \n",
    "    return (pred - true)/ true\n",
    "\n",
    "\n",
    "def abs_perc_error(pred, true):\n",
    "    \"\"\"Calculates absolute percentage error between predictions and true values.\n",
    "\n",
    "    It is non-negative.\n",
    "\n",
    "    Parameters\n",
    "    ----------\n",
    "    pred : pd.Series\n",
    "        predicted values\n",
    "    true : pd.Series\n",
    "        true values\n",
    "\n",
    "    Returns\n",
    "    -------\n",
    "    pd.Series\n",
    "        absolute percentage error\n",
    "    \"\"\"    \n",
    "    return perc_error(pred, true).abs()"
   ]
  },
  {
   "cell_type": "markdown",
   "metadata": {},
   "source": [
    "## Optimal aggregation - step 1"
   ]
  },
  {
   "cell_type": "markdown",
   "metadata": {},
   "source": [
    "The first component of the model will be a simple aggregation of volume from previous N days.\n",
    "\n",
    "We will consider 3 different aggregation methods:\n",
    "  - mean\n",
    "  - median\n",
    "  - exponentially weighted mean (EWM):\n",
    "  \n",
    "  $$ s_0=x_0 \\\\ s_n = \\alpha x_n + (1-\\alpha)s_{n-1} \\\\ \\alpha = \\frac{2}{(n+1)}$$\n",
    "\n",
    "In the first step, we will find optimal combination of aggregation method and look-back window through grid-search minimasing mean APE.\n",
    "\n",
    "At this point model looks as presented below:\n",
    "\n",
    "$$ \\hat{V}_t = \\bar{V}_t(n)$$\n",
    "\n",
    "where:\n",
    "- $\\hat{V}_t$ - volume forecast for day t,\n",
    "- $\\bar{V}_t(n)$ - median, mean or exponentially weighted mean computed over last n trading days."
   ]
  },
  {
   "cell_type": "code",
   "execution_count": 11,
   "metadata": {},
   "outputs": [],
   "source": [
    "def rolling_agg(srs, window, method):\n",
    "    \"\"\"Rolling aggregates for series.\n",
    "\n",
    "    Parameters\n",
    "    ----------\n",
    "    srs : pd.Series\n",
    "        Data to apply rolling aggregation to\n",
    "    window : int\n",
    "        size of look-behind window used for aggregation\n",
    "    method : str\n",
    "        mean, median, ewm (exponetially weighted mean)\n",
    "\n",
    "    Returns\n",
    "    -------\n",
    "    pd.Series\n",
    "        rolling aggregates\n",
    "\n",
    "    Raises\n",
    "    ------\n",
    "    NotImplementedError\n",
    "        if not implemented method str is passed\n",
    "    \"\"\"    \n",
    "\n",
    "    # it is important to set closed=\"left\", so that we don't have a look-ahead bias\n",
    "    roll = srs.rolling(window, closed=\"left\") \n",
    "    if method == \"mean\":\n",
    "        return roll.mean()\n",
    "    elif method == \"median\":\n",
    "        return roll.median()\n",
    "    elif method == \"ewm\":  # exponentially weighted mean\n",
    "        # pd.Series.ewm returns pd.Series therefore we are picking last value\n",
    "        ewm = lambda x: x.ewm(span=window, min_periods=window).mean().iloc[-1]\n",
    "        return roll.apply(ewm)\n",
    "    else:\n",
    "        raise NotImplementedError(f\"'{method}' method is not implemented\")\n",
    "\n",
    "\n",
    "def predict_agg(vol, agg_params):\n",
    "    \"\"\"Works like rolling_agg but with packed params.\n",
    "    \n",
    "    Created for consistency with other predict_* functions.\n",
    "    \"\"\"\n",
    "    return rolling_agg(vol, *agg_params)"
   ]
  },
  {
   "cell_type": "code",
   "execution_count": 12,
   "metadata": {},
   "outputs": [],
   "source": [
    "# simple check if function works as expected\n",
    "vol = train.loc[(slice(None), \"META\")]\n",
    "mean30 = rolling_agg(vol, 30, \"mean\")\n",
    "assert mean30.iloc[-1] == vol.iloc[-31:-1].mean()"
   ]
  },
  {
   "cell_type": "markdown",
   "metadata": {},
   "source": [
    "We will find optimal parameters through grid search.\n",
    "\n",
    "Let's consider following range of look-back windows: $[1, 30]$\n",
    "\n",
    "And following aggregation function: $[mean, median, ewm]$\n"
   ]
  },
  {
   "cell_type": "code",
   "execution_count": 13,
   "metadata": {},
   "outputs": [
    {
     "data": {
      "text/html": [
       "<div>\n",
       "<style scoped>\n",
       "    .dataframe tbody tr th:only-of-type {\n",
       "        vertical-align: middle;\n",
       "    }\n",
       "\n",
       "    .dataframe tbody tr th {\n",
       "        vertical-align: top;\n",
       "    }\n",
       "\n",
       "    .dataframe thead th {\n",
       "        text-align: right;\n",
       "    }\n",
       "</style>\n",
       "<table border=\"1\" class=\"dataframe\">\n",
       "  <thead>\n",
       "    <tr style=\"text-align: right;\">\n",
       "      <th></th>\n",
       "      <th>0</th>\n",
       "      <th>1</th>\n",
       "    </tr>\n",
       "  </thead>\n",
       "  <tbody>\n",
       "    <tr>\n",
       "      <th>0</th>\n",
       "      <td>1</td>\n",
       "      <td>mean</td>\n",
       "    </tr>\n",
       "    <tr>\n",
       "      <th>1</th>\n",
       "      <td>1</td>\n",
       "      <td>median</td>\n",
       "    </tr>\n",
       "    <tr>\n",
       "      <th>2</th>\n",
       "      <td>1</td>\n",
       "      <td>ewm</td>\n",
       "    </tr>\n",
       "    <tr>\n",
       "      <th>3</th>\n",
       "      <td>2</td>\n",
       "      <td>mean</td>\n",
       "    </tr>\n",
       "    <tr>\n",
       "      <th>4</th>\n",
       "      <td>2</td>\n",
       "      <td>median</td>\n",
       "    </tr>\n",
       "    <tr>\n",
       "      <th>...</th>\n",
       "      <td>...</td>\n",
       "      <td>...</td>\n",
       "    </tr>\n",
       "    <tr>\n",
       "      <th>85</th>\n",
       "      <td>29</td>\n",
       "      <td>median</td>\n",
       "    </tr>\n",
       "    <tr>\n",
       "      <th>86</th>\n",
       "      <td>29</td>\n",
       "      <td>ewm</td>\n",
       "    </tr>\n",
       "    <tr>\n",
       "      <th>87</th>\n",
       "      <td>30</td>\n",
       "      <td>mean</td>\n",
       "    </tr>\n",
       "    <tr>\n",
       "      <th>88</th>\n",
       "      <td>30</td>\n",
       "      <td>median</td>\n",
       "    </tr>\n",
       "    <tr>\n",
       "      <th>89</th>\n",
       "      <td>30</td>\n",
       "      <td>ewm</td>\n",
       "    </tr>\n",
       "  </tbody>\n",
       "</table>\n",
       "<p>90 rows × 2 columns</p>\n",
       "</div>"
      ],
      "text/plain": [
       "     0       1\n",
       "0    1    mean\n",
       "1    1  median\n",
       "2    1     ewm\n",
       "3    2    mean\n",
       "4    2  median\n",
       "..  ..     ...\n",
       "85  29  median\n",
       "86  29     ewm\n",
       "87  30    mean\n",
       "88  30  median\n",
       "89  30     ewm\n",
       "\n",
       "[90 rows x 2 columns]"
      ]
     },
     "execution_count": 13,
     "metadata": {},
     "output_type": "execute_result"
    }
   ],
   "source": [
    "# product function generates list of tuples with all combinations of elements\n",
    "params_grid = list(product(range(1, 31), [\"mean\", \"median\", \"ewm\"]))\n",
    "pd.DataFrame(params_grid)"
   ]
  },
  {
   "cell_type": "code",
   "execution_count": 14,
   "metadata": {},
   "outputs": [],
   "source": [
    "def find_optimal_agg(data, params_grid, per_symbol=False):\n",
    "    \"\"\"Finds aggregation parameters with lowest APE through grid search\n",
    "\n",
    "    Parameters\n",
    "    ----------\n",
    "    data : pd.Series\n",
    "        volume data with date and symbol MultiIndex\n",
    "    params_grid : list\n",
    "        combinations of (window, method) to check\n",
    "    per_symbol : bool, optional\n",
    "        separate parameters for each symbol, by default False\n",
    "\n",
    "    Returns\n",
    "    -------\n",
    "    tuple or pd.Series\n",
    "        Optimal (window, method)\n",
    "    pd.DataFrame\n",
    "        mean APE for each symbol, window, method combination \n",
    "    \"\"\"    \n",
    "    train_errors = {}\n",
    "    for symbol, vol in data.groupby(\"symbol\"): # iterate over symbol subsets\n",
    "        symbol_errors = {}\n",
    "        for params in params_grid:\n",
    "            preds = predict_agg(vol, params)\n",
    "            symbol_errors[params] = abs_perc_error(\n",
    "                preds.iloc[30:], vol.iloc[30:]\n",
    "            ).mean()\n",
    "        symbol_errors = pd.Series(symbol_errors)\n",
    "        train_errors[symbol] = symbol_errors\n",
    "    train_errors = pd.concat(train_errors, names=[\"symbol\", \"window\", \"method\"])\n",
    "    if not per_symbol:\n",
    "        mean_train_errors = train_errors.groupby([\"window\", \"method\"]).mean()\n",
    "        best_params = mean_train_errors.idxmin()\n",
    "    else:\n",
    "        best_params = train_errors.reset_index(\"symbol\").groupby(\"symbol\").idxmin()\n",
    "        best_params = best_params.rename(columns={0: \"agg_params\"}).squeeze()\n",
    "    return best_params, train_errors"
   ]
  },
  {
   "cell_type": "code",
   "execution_count": 15,
   "metadata": {},
   "outputs": [
    {
     "data": {
      "text/plain": [
       "date        symbol\n",
       "2017-01-03  AAPL      115127600\n",
       "            AMZN        3521100\n",
       "            FB         20663900\n",
       "            GOOG        1657300\n",
       "            NFLX        9437900\n",
       "                        ...    \n",
       "2020-12-31  AAPL       99116600\n",
       "            AMZN        2957200\n",
       "            FB         12900400\n",
       "            GOOG        1011900\n",
       "            NFLX        5392300\n",
       "Name: volume, Length: 5035, dtype: int64"
      ]
     },
     "execution_count": 15,
     "metadata": {},
     "output_type": "execute_result"
    }
   ],
   "source": [
    "train"
   ]
  },
  {
   "cell_type": "code",
   "execution_count": 16,
   "metadata": {},
   "outputs": [
    {
     "data": {
      "text/plain": [
       "[(1, 'mean'), (1, 'median'), (1, 'ewm'), (2, 'mean'), (2, 'median')]"
      ]
     },
     "execution_count": 16,
     "metadata": {},
     "output_type": "execute_result"
    }
   ],
   "source": [
    "params_grid[:5]"
   ]
  },
  {
   "cell_type": "code",
   "execution_count": 17,
   "metadata": {},
   "outputs": [],
   "source": [
    "agg_params, train_errors = find_optimal_agg(train, params_grid)"
   ]
  },
  {
   "cell_type": "markdown",
   "metadata": {},
   "source": [
    "After running the first estimation step, let's check the optimal aggregation method and estimation errors on train data:"
   ]
  },
  {
   "cell_type": "code",
   "execution_count": 18,
   "metadata": {},
   "outputs": [
    {
     "data": {
      "text/plain": [
       "(3, 'ewm')"
      ]
     },
     "execution_count": 18,
     "metadata": {},
     "output_type": "execute_result"
    }
   ],
   "source": [
    "agg_params"
   ]
  },
  {
   "cell_type": "code",
   "execution_count": 19,
   "metadata": {},
   "outputs": [
    {
     "data": {
      "text/plain": [
       "symbol  window  method\n",
       "AAPL    1       mean      0.251645\n",
       "                median    0.251645\n",
       "                ewm       0.251645\n",
       "        2       mean      0.253330\n",
       "                median    0.253330\n",
       "                            ...   \n",
       "NFLX    29      median    0.321580\n",
       "                ewm       0.365345\n",
       "        30      mean      0.406128\n",
       "                median    0.322009\n",
       "                ewm       0.367139\n",
       "Length: 450, dtype: float64"
      ]
     },
     "execution_count": 19,
     "metadata": {},
     "output_type": "execute_result"
    }
   ],
   "source": [
    "train_errors"
   ]
  },
  {
   "cell_type": "code",
   "execution_count": 20,
   "metadata": {},
   "outputs": [
    {
     "data": {
      "text/plain": [
       "window  method\n",
       "3       ewm       0.2598\n",
       "2       ewm       0.2602\n",
       "4       ewm       0.2613\n",
       "5       ewm       0.2642\n",
       "4       median    0.2651\n",
       "dtype: float64"
      ]
     },
     "execution_count": 20,
     "metadata": {},
     "output_type": "execute_result"
    }
   ],
   "source": [
    "mean_train_errors = train_errors.groupby([\"window\", \"method\"]).mean()\n",
    "mean_train_errors.sort_values().head().round(4)"
   ]
  },
  {
   "cell_type": "code",
   "execution_count": 21,
   "metadata": {},
   "outputs": [
    {
     "data": {
      "image/png": "[encoded data removed]",
      "text/plain": [
       "<Figure size 720x360 with 1 Axes>"
      ]
     },
     "metadata": {
      "needs_background": "light"
     },
     "output_type": "display_data"
    }
   ],
   "source": [
    "mte_wide = mean_train_errors.reset_index().pivot(\n",
    "    index=\"window\", columns=\"method\", values=0\n",
    ")\n",
    "mte_wide.plot(marker=\"d\", figsize=(10, 5), title=\"APE per aggregation parameters\")\n",
    "plt.ylabel(\"Absolute Percentage Error\");"
   ]
  },
  {
   "cell_type": "code",
   "execution_count": 22,
   "metadata": {},
   "outputs": [
    {
     "data": {
      "text/plain": [
       "symbol\n",
       "AAPL    0.2418\n",
       "AMZN    0.2445\n",
       "FB      0.2716\n",
       "GOOG    0.2516\n",
       "NFLX    0.2893\n",
       "dtype: float64"
      ]
     },
     "execution_count": 22,
     "metadata": {},
     "output_type": "execute_result"
    }
   ],
   "source": [
    "train_errors.loc[(slice(None), *agg_params)].round(4)"
   ]
  },
  {
   "cell_type": "markdown",
   "metadata": {},
   "source": [
    "As a next step, we can test, how our model performs out of sample. We can see that model performance was stable and did not deteriorate for test sample."
   ]
  },
  {
   "cell_type": "code",
   "execution_count": 23,
   "metadata": {},
   "outputs": [],
   "source": [
    "test_errors = {}\n",
    "for symbol, vol in test.groupby(\"symbol\"):\n",
    "    preds = rolling_agg(vol, *agg_params)\n",
    "    test_errors[symbol] = abs_perc_error(preds, vol).mean()\n",
    "test_errors = pd.Series(test_errors)"
   ]
  },
  {
   "cell_type": "code",
   "execution_count": 24,
   "metadata": {},
   "outputs": [
    {
     "name": "stdout",
     "output_type": "stream",
     "text": [
      "Error per stock:\n"
     ]
    },
    {
     "data": {
      "text/plain": [
       "AAPL    0.1877\n",
       "AMZN    0.2331\n",
       "FB      0.2507\n",
       "GOOG    0.2382\n",
       "NFLX    0.2987\n",
       "dtype: float64"
      ]
     },
     "execution_count": 24,
     "metadata": {},
     "output_type": "execute_result"
    }
   ],
   "source": [
    "print(\"Error per stock:\")\n",
    "test_errors.round(4)"
   ]
  },
  {
   "cell_type": "code",
   "execution_count": 25,
   "metadata": {},
   "outputs": [
    {
     "name": "stdout",
     "output_type": "stream",
     "text": [
      "Average error: 0.2417\n"
     ]
    }
   ],
   "source": [
    "print(\"Average error:\", round(test_errors.mean(), 4))"
   ]
  },
  {
   "cell_type": "markdown",
   "metadata": {},
   "source": [
    "## Day of week - step 2\n",
    "\n",
    "Volume tends to be different on certain days of the week.\n",
    "\n",
    "For example it tends to be larger on Fridays due to trader's unwillingness to hold open positions over weekends or often option contract expiries.\n",
    "\n",
    "We will try to estimate this effect by calculating mean of ratio of volume or particular day of the week to weekly average volume.\n",
    "\n",
    "It is estimated as following: \n",
    "\n",
    "$$ \\beta_{DoW} = {mean}_{t\\in DoW}\\bigg( \\frac{V_{t}}{ADV(t)}\\bigg) $$\n",
    "\n",
    "Where $ADV(t)$ is average daily volume at week of day t. \n",
    "\n",
    "Then volume forecast calculated with aggregation and DoW components is as following: \n",
    "Model is formulated in the following way:\n",
    "\n",
    "$$ \\hat{V}_t = \\bar{V}_t(n) * DoW(t) $$\n",
    "\n",
    "where:\n",
    "- $\\hat{V}_t$ - volume forecast for day t,\n",
    "- $\\bar{V}_t(n)$ - median, mean or other aggregation function computed over last n trading days,\n",
    "- $DoW(t)$ - Day-of-Week effect, how much of average weekly volume typically trades on a particular day of week."
   ]
  },
  {
   "cell_type": "code",
   "execution_count": 26,
   "metadata": {},
   "outputs": [],
   "source": [
    "def fit_dow_factors(data, per_symbol=False):\n",
    "    \"\"\"Fit day of the week factors.\n",
    "\n",
    "    Factors are multiplicative i.e. multiply normal volume to adjust.\n",
    "\n",
    "    Parameters\n",
    "    ----------\n",
    "    data : pd.Series or pd.DataFrame\n",
    "        volume data with date and symbol\n",
    "    per_symbol : bool, optional\n",
    "        separate parameters for each symbol, by default False\n",
    "\n",
    "    Returns\n",
    "    -------\n",
    "    pd.Series\n",
    "        Day of the week factors.\n",
    "    \"\"\"    \n",
    "    # need this if date is in the index\n",
    "    if data.index.name is not None or len(data.index.names) > 1:\n",
    "        data = data.reset_index()\n",
    "\n",
    "    yr_str =  data[\"date\"].dt.year.astype(str)\n",
    "    week_str =  data[\"date\"].dt.isocalendar().week.astype(str)\n",
    "    data[\"week\"] =  yr_str + week_str # need this to uniquely identify weeks\n",
    "    data[\"week_avg\"] = data.groupby([\"symbol\", \"week\"])[\"volume\"].transform(\"mean\")\n",
    "    data[\"ratio\"] = data[\"volume\"] / data[\"week_avg\"]\n",
    "    data[\"dow\"] = data[\"date\"].dt.dayofweek\n",
    "    if not per_symbol:\n",
    "        dow_factors = data.groupby(\"dow\")[\"ratio\"].mean()\n",
    "    else:\n",
    "        dow_factors = data.groupby([\"symbol\", \"dow\"])[\"ratio\"].mean()\n",
    "    dow_factors.name = \"dow_factor\"\n",
    "    return dow_factors"
   ]
  },
  {
   "cell_type": "code",
   "execution_count": 27,
   "metadata": {},
   "outputs": [
    {
     "data": {
      "text/plain": [
       "date        symbol\n",
       "2017-01-03  AAPL      115127600\n",
       "            AMZN        3521100\n",
       "            FB         20663900\n",
       "            GOOG        1657300\n",
       "            NFLX        9437900\n",
       "                        ...    \n",
       "2020-12-31  AAPL       99116600\n",
       "            AMZN        2957200\n",
       "            FB         12900400\n",
       "            GOOG        1011900\n",
       "            NFLX        5392300\n",
       "Name: volume, Length: 5035, dtype: int64"
      ]
     },
     "execution_count": 27,
     "metadata": {},
     "output_type": "execute_result"
    }
   ],
   "source": [
    "train"
   ]
  },
  {
   "cell_type": "markdown",
   "metadata": {},
   "source": [
    "After fitting DoW effects, we can see that there is slightly more trading on Mondays and Fridays, while Wednesdays are characterised by a bit declined activity."
   ]
  },
  {
   "cell_type": "code",
   "execution_count": 28,
   "metadata": {},
   "outputs": [],
   "source": [
    "dow_factors = fit_dow_factors(train)"
   ]
  },
  {
   "cell_type": "code",
   "execution_count": 29,
   "metadata": {},
   "outputs": [
    {
     "data": {
      "text/plain": [
       "dow\n",
       "0    1.001\n",
       "1    0.990\n",
       "2    0.987\n",
       "3    0.982\n",
       "4    1.041\n",
       "Name: dow_factor, dtype: float64"
      ]
     },
     "execution_count": 29,
     "metadata": {},
     "output_type": "execute_result"
    }
   ],
   "source": [
    "dow_factors.round(3)"
   ]
  },
  {
   "cell_type": "code",
   "execution_count": 30,
   "metadata": {},
   "outputs": [],
   "source": [
    "def adjust_preds_dow(preds, dow_factors):\n",
    "    \"\"\"Adjust volume predictions using DoW factors.\n",
    "\n",
    "    Parameters\n",
    "    ----------\n",
    "    preds : pd.Series\n",
    "        Volume preds with date index\n",
    "    dow_factors : pd.Series\n",
    "        DoW factors\n",
    "\n",
    "    Returns\n",
    "    -------\n",
    "    pd.Series\n",
    "        Updated preds\n",
    "    \"\"\"    \n",
    "    reindex_index = preds.index.get_level_values(\"date\").dayofweek\n",
    "    preds = preds * pd.Series(\n",
    "        dow_factors.reindex(index=reindex_index).to_numpy(), index=preds.index\n",
    "    )\n",
    "    return preds"
   ]
  },
  {
   "cell_type": "code",
   "execution_count": 31,
   "metadata": {},
   "outputs": [],
   "source": [
    "def predict_agg_dow(vol, agg_params, dow_factors):\n",
    "    \"\"\"Predict volumes based on historical volume aggregation and DoW factors.\n",
    "\n",
    "    Parameters\n",
    "    ----------\n",
    "    vol : pd.Series\n",
    "        Volume data with date index\n",
    "    agg_params : tuple\n",
    "        (window, method)\n",
    "    dow_factors : pd.Series\n",
    "        DoW factors\n",
    "\n",
    "    Returns\n",
    "    -------\n",
    "    pd.Series\n",
    "        Volume predictions\n",
    "    \"\"\"    \n",
    "    preds = predict_agg(vol, agg_params)\n",
    "    preds = adjust_preds_dow(preds, dow_factors)\n",
    "    return preds"
   ]
  },
  {
   "cell_type": "code",
   "execution_count": 32,
   "metadata": {},
   "outputs": [],
   "source": [
    "dow_test_errors = {}\n",
    "for symbol, vol in test.groupby(\"symbol\"):\n",
    "    preds = predict_agg_dow(vol, agg_params, dow_factors)\n",
    "    dow_test_errors[symbol] = abs_perc_error(preds, vol).mean()\n",
    "dow_test_errors = pd.Series(dow_test_errors)"
   ]
  },
  {
   "cell_type": "code",
   "execution_count": 33,
   "metadata": {},
   "outputs": [
    {
     "data": {
      "text/html": [
       "<div>\n",
       "<style scoped>\n",
       "    .dataframe tbody tr th:only-of-type {\n",
       "        vertical-align: middle;\n",
       "    }\n",
       "\n",
       "    .dataframe tbody tr th {\n",
       "        vertical-align: top;\n",
       "    }\n",
       "\n",
       "    .dataframe thead th {\n",
       "        text-align: right;\n",
       "    }\n",
       "</style>\n",
       "<table border=\"1\" class=\"dataframe\">\n",
       "  <thead>\n",
       "    <tr style=\"text-align: right;\">\n",
       "      <th></th>\n",
       "      <th>Agg model</th>\n",
       "      <th>Agg-DoW model</th>\n",
       "    </tr>\n",
       "  </thead>\n",
       "  <tbody>\n",
       "    <tr>\n",
       "      <th>AAPL</th>\n",
       "      <td>0.1877</td>\n",
       "      <td>0.1876</td>\n",
       "    </tr>\n",
       "    <tr>\n",
       "      <th>AMZN</th>\n",
       "      <td>0.2331</td>\n",
       "      <td>0.2306</td>\n",
       "    </tr>\n",
       "    <tr>\n",
       "      <th>FB</th>\n",
       "      <td>0.2507</td>\n",
       "      <td>0.2513</td>\n",
       "    </tr>\n",
       "    <tr>\n",
       "      <th>GOOG</th>\n",
       "      <td>0.2382</td>\n",
       "      <td>0.2374</td>\n",
       "    </tr>\n",
       "    <tr>\n",
       "      <th>NFLX</th>\n",
       "      <td>0.2987</td>\n",
       "      <td>0.3005</td>\n",
       "    </tr>\n",
       "  </tbody>\n",
       "</table>\n",
       "</div>"
      ],
      "text/plain": [
       "      Agg model  Agg-DoW model\n",
       "AAPL     0.1877         0.1876\n",
       "AMZN     0.2331         0.2306\n",
       "FB       0.2507         0.2513\n",
       "GOOG     0.2382         0.2374\n",
       "NFLX     0.2987         0.3005"
      ]
     },
     "execution_count": 33,
     "metadata": {},
     "output_type": "execute_result"
    }
   ],
   "source": [
    "model_comparison = pd.concat([test_errors, dow_test_errors], axis=1).rename(\n",
    "    columns=[\"Agg model\", \"Agg-DoW model\"].__getitem__\n",
    ")\n",
    "model_comparison.round(4)"
   ]
  },
  {
   "cell_type": "code",
   "execution_count": 34,
   "metadata": {
    "scrolled": true
   },
   "outputs": [
    {
     "data": {
      "text/plain": [
       "Agg model        0.2417\n",
       "Agg-DoW model    0.2415\n",
       "dtype: float64"
      ]
     },
     "execution_count": 34,
     "metadata": {},
     "output_type": "execute_result"
    }
   ],
   "source": [
    "model_comparison.mean().round(4)"
   ]
  },
  {
   "cell_type": "markdown",
   "metadata": {},
   "source": [
    "Based on out-of-sample performance results it can be noticed, that certain symbols slightly improve by taking DoW effect."
   ]
  },
  {
   "cell_type": "markdown",
   "metadata": {},
   "source": [
    "## Autoregressive error component - step 3"
   ]
  },
  {
   "cell_type": "markdown",
   "metadata": {},
   "source": [
    "Finally, we will estimate autoregressive (AR) error component. (It is actually more similar to moving average component of ARIMA).\n",
    "\n",
    "We are assuming that Percentage Error follows autoregressive process AR(1):\n",
    "\n",
    "$$\\hat{\\epsilon}_{t} = \\beta_{0} + \\beta_{1}{\\epsilon}_{t-1}$$\n",
    "\n",
    "Where:\n",
    "\n",
    "$$\\epsilon_{t} = \\frac{pred_t - true_t}{true_t} = \\frac{pred_t}{true_t} - 1$$\n",
    "\n",
    "From that follows:\n",
    "\n",
    "$$ true_t = \\frac{pred_t}{1 + \\epsilon_t}$$\n",
    "\n",
    "Therefore, we update our predictions in a following way:\n",
    "\n",
    "$$\\hat{V_t} = \\bar{V}_t(n) * DoW(t) * \\frac{1}{1 +  \\beta_{0} + \\beta_{1}{\\epsilon}_{t-1}}$$"
   ]
  },
  {
   "cell_type": "code",
   "execution_count": 35,
   "metadata": {},
   "outputs": [],
   "source": [
    "def fit_ar(data, agg_params, dow_factors, per_symbol=False):\n",
    "    \"\"\"Fit autoregressive component on top of aggregation and Dow components.\n",
    "\n",
    "    Parameters\n",
    "    ----------\n",
    "    data : pd.Series\n",
    "        Volume data with date index\n",
    "    agg_params : tuple\n",
    "        (window, method)\n",
    "    dow_factors : pd.Series\n",
    "        DoW factors\n",
    "    per_symbol : bool, optional\n",
    "        fit separate parameters for each symbol, by default False\n",
    "\n",
    "    Returns\n",
    "    -------\n",
    "    pd.Series\n",
    "        AR parameters\n",
    "    pd.DataFrame\n",
    "        Aggregation-Dow errors used for fitting\n",
    "    statsmodels.regression.linear_model.OLSResults\n",
    "        OLS fit result\n",
    "    \"\"\"    \n",
    "    ap = agg_params\n",
    "    dowf = dow_factors\n",
    "\n",
    "    agg_per_symbol = isinstance(ap, pd.Series)\n",
    "    dow_per_symbol = len(dowf.index.names) == 2\n",
    "\n",
    "    agg_dow_errors = []\n",
    "    for symbol, vol in data.groupby(\"symbol\"):\n",
    "        if agg_per_symbol:\n",
    "            ap = agg_params[symbol]\n",
    "        if dow_per_symbol:\n",
    "            dowf = dow_factors[symbol]\n",
    "        preds = predict_agg_dow(vol, ap, dowf)\n",
    "        agg_dow_errors.append(perc_error(preds, vol).dropna())\n",
    "    agg_dow_errors = pd.concat(agg_dow_errors).sort_index()\n",
    "    agg_dow_errors = pd.concat(\n",
    "        [agg_dow_errors, agg_dow_errors.groupby(\"symbol\").shift(1)], axis=1\n",
    "    )\n",
    "    agg_dow_errors.columns = [\"e\", \"e_lag1\"]\n",
    "    agg_dow_errors = agg_dow_errors.dropna()\n",
    "\n",
    "    if not per_symbol:\n",
    "        ols_fit_res = sm.OLS(\n",
    "            agg_dow_errors[\"e\"], sm.add_constant(agg_dow_errors[\"e_lag1\"])\n",
    "        ).fit()\n",
    "        ar_params = ols_fit_res.params\n",
    "    else:\n",
    "        ols_fit_res = {}\n",
    "        ar_params = {}\n",
    "        for symbol, errors in agg_dow_errors.groupby(\"symbol\"):\n",
    "            ols_fit_res[symbol] = sm.OLS(\n",
    "                errors[\"e\"], sm.add_constant(errors[\"e_lag1\"])\n",
    "            ).fit()\n",
    "            ar_params[symbol] = ols_fit_res[symbol].params\n",
    "        ar_params = pd.concat(ar_params, names=[\"symbol\"])\n",
    "\n",
    "    return ar_params, agg_dow_errors, ols_fit_res"
   ]
  },
  {
   "cell_type": "code",
   "execution_count": 36,
   "metadata": {},
   "outputs": [
    {
     "data": {
      "text/plain": [
       "date        symbol\n",
       "2017-01-03  AAPL      115127600\n",
       "            AMZN        3521100\n",
       "            FB         20663900\n",
       "            GOOG        1657300\n",
       "            NFLX        9437900\n",
       "                        ...    \n",
       "2020-12-31  AAPL       99116600\n",
       "            AMZN        2957200\n",
       "            FB         12900400\n",
       "            GOOG        1011900\n",
       "            NFLX        5392300\n",
       "Name: volume, Length: 5035, dtype: int64"
      ]
     },
     "execution_count": 36,
     "metadata": {},
     "output_type": "execute_result"
    }
   ],
   "source": [
    "train"
   ]
  },
  {
   "cell_type": "code",
   "execution_count": 37,
   "metadata": {},
   "outputs": [
    {
     "data": {
      "text/plain": [
       "(3, 'ewm')"
      ]
     },
     "execution_count": 37,
     "metadata": {},
     "output_type": "execute_result"
    }
   ],
   "source": [
    "agg_params"
   ]
  },
  {
   "cell_type": "code",
   "execution_count": 38,
   "metadata": {},
   "outputs": [
    {
     "data": {
      "text/plain": [
       "dow\n",
       "0    1.000843\n",
       "1    0.989683\n",
       "2    0.986959\n",
       "3    0.982354\n",
       "4    1.040783\n",
       "Name: dow_factor, dtype: float64"
      ]
     },
     "execution_count": 38,
     "metadata": {},
     "output_type": "execute_result"
    }
   ],
   "source": [
    "dow_factors"
   ]
  },
  {
   "cell_type": "code",
   "execution_count": 39,
   "metadata": {},
   "outputs": [],
   "source": [
    "ar_params, agg_dow_errors, ar_ols_fit = fit_ar(train, agg_params, dow_factors)"
   ]
  },
  {
   "cell_type": "code",
   "execution_count": 40,
   "metadata": {},
   "outputs": [
    {
     "data": {
      "text/plain": [
       "const     0.064950\n",
       "e_lag1    0.128816\n",
       "dtype: float64"
      ]
     },
     "execution_count": 40,
     "metadata": {},
     "output_type": "execute_result"
    }
   ],
   "source": [
    "ar_params"
   ]
  },
  {
   "cell_type": "code",
   "execution_count": 41,
   "metadata": {},
   "outputs": [
    {
     "data": {
      "text/html": [
       "<div>\n",
       "<style scoped>\n",
       "    .dataframe tbody tr th:only-of-type {\n",
       "        vertical-align: middle;\n",
       "    }\n",
       "\n",
       "    .dataframe tbody tr th {\n",
       "        vertical-align: top;\n",
       "    }\n",
       "\n",
       "    .dataframe thead th {\n",
       "        text-align: right;\n",
       "    }\n",
       "</style>\n",
       "<table border=\"1\" class=\"dataframe\">\n",
       "  <thead>\n",
       "    <tr style=\"text-align: right;\">\n",
       "      <th></th>\n",
       "      <th></th>\n",
       "      <th>e</th>\n",
       "      <th>e_lag1</th>\n",
       "    </tr>\n",
       "    <tr>\n",
       "      <th>date</th>\n",
       "      <th>symbol</th>\n",
       "      <th></th>\n",
       "      <th></th>\n",
       "    </tr>\n",
       "  </thead>\n",
       "  <tbody>\n",
       "    <tr>\n",
       "      <th rowspan=\"5\" valign=\"top\">2017-01-09</th>\n",
       "      <th>AAPL</th>\n",
       "      <td>-0.179873</td>\n",
       "      <td>-0.251746</td>\n",
       "    </tr>\n",
       "    <tr>\n",
       "      <th>AMZN</th>\n",
       "      <td>0.581400</td>\n",
       "      <td>-0.208609</td>\n",
       "    </tr>\n",
       "    <tr>\n",
       "      <th>FB</th>\n",
       "      <td>0.079790</td>\n",
       "      <td>-0.281752</td>\n",
       "    </tr>\n",
       "    <tr>\n",
       "      <th>GOOG</th>\n",
       "      <td>0.155868</td>\n",
       "      <td>-0.171092</td>\n",
       "    </tr>\n",
       "    <tr>\n",
       "      <th>NFLX</th>\n",
       "      <td>0.754985</td>\n",
       "      <td>-0.081119</td>\n",
       "    </tr>\n",
       "    <tr>\n",
       "      <th>...</th>\n",
       "      <th>...</th>\n",
       "      <td>...</td>\n",
       "      <td>...</td>\n",
       "    </tr>\n",
       "    <tr>\n",
       "      <th rowspan=\"5\" valign=\"top\">2020-12-31</th>\n",
       "      <th>AAPL</th>\n",
       "      <td>0.065286</td>\n",
       "      <td>0.152037</td>\n",
       "    </tr>\n",
       "    <tr>\n",
       "      <th>AMZN</th>\n",
       "      <td>0.341567</td>\n",
       "      <td>0.419787</td>\n",
       "    </tr>\n",
       "    <tr>\n",
       "      <th>FB</th>\n",
       "      <td>0.123536</td>\n",
       "      <td>0.419443</td>\n",
       "    </tr>\n",
       "    <tr>\n",
       "      <th>GOOG</th>\n",
       "      <td>0.278158</td>\n",
       "      <td>-0.100729</td>\n",
       "    </tr>\n",
       "    <tr>\n",
       "      <th>NFLX</th>\n",
       "      <td>-0.520044</td>\n",
       "      <td>0.729638</td>\n",
       "    </tr>\n",
       "  </tbody>\n",
       "</table>\n",
       "<p>5015 rows × 2 columns</p>\n",
       "</div>"
      ],
      "text/plain": [
       "                          e    e_lag1\n",
       "date       symbol                    \n",
       "2017-01-09 AAPL   -0.179873 -0.251746\n",
       "           AMZN    0.581400 -0.208609\n",
       "           FB      0.079790 -0.281752\n",
       "           GOOG    0.155868 -0.171092\n",
       "           NFLX    0.754985 -0.081119\n",
       "...                     ...       ...\n",
       "2020-12-31 AAPL    0.065286  0.152037\n",
       "           AMZN    0.341567  0.419787\n",
       "           FB      0.123536  0.419443\n",
       "           GOOG    0.278158 -0.100729\n",
       "           NFLX   -0.520044  0.729638\n",
       "\n",
       "[5015 rows x 2 columns]"
      ]
     },
     "execution_count": 41,
     "metadata": {},
     "output_type": "execute_result"
    }
   ],
   "source": [
    "agg_dow_errors"
   ]
  },
  {
   "cell_type": "code",
   "execution_count": 42,
   "metadata": {},
   "outputs": [
    {
     "data": {
      "text/plain": [
       "<statsmodels.regression.linear_model.RegressionResultsWrapper at 0x7f277bff9880>"
      ]
     },
     "execution_count": 42,
     "metadata": {},
     "output_type": "execute_result"
    }
   ],
   "source": [
    "ar_ols_fit"
   ]
  },
  {
   "cell_type": "markdown",
   "metadata": {},
   "source": [
    "Lets analyse a relationship between estimation errors of model with ooptimal method and DoW components. \n",
    "\n",
    "From scatterplot between estimation errors and lagged errors it can be observed, that they are correlated. OLS regressions results reveal that in fact, errors are positively correlated with first lags of errors."
   ]
  },
  {
   "cell_type": "code",
   "execution_count": 43,
   "metadata": {},
   "outputs": [
    {
     "data": {
      "text/plain": [
       "<AxesSubplot:xlabel='e_lag1', ylabel='e'>"
      ]
     },
     "execution_count": 43,
     "metadata": {},
     "output_type": "execute_result"
    },
    {
     "data": {
      "image/png": "[encoded data removed]",
      "text/plain": [
       "<Figure size 432x288 with 1 Axes>"
      ]
     },
     "metadata": {
      "needs_background": "light"
     },
     "output_type": "display_data"
    }
   ],
   "source": [
    "agg_dow_errors.plot.scatter(x=\"e_lag1\", y=\"e\")"
   ]
  },
  {
   "cell_type": "code",
   "execution_count": 44,
   "metadata": {
    "scrolled": false
   },
   "outputs": [
    {
     "data": {
      "text/html": [
       "<table class=\"simpletable\">\n",
       "<caption>OLS Regression Results</caption>\n",
       "<tr>\n",
       "  <th>Dep. Variable:</th>            <td>e</td>        <th>  R-squared:         </th> <td>   0.017</td>\n",
       "</tr>\n",
       "<tr>\n",
       "  <th>Model:</th>                   <td>OLS</td>       <th>  Adj. R-squared:    </th> <td>   0.016</td>\n",
       "</tr>\n",
       "<tr>\n",
       "  <th>Method:</th>             <td>Least Squares</td>  <th>  F-statistic:       </th> <td>   84.58</td>\n",
       "</tr>\n",
       "<tr>\n",
       "  <th>Date:</th>             <td>Tue, 18 Jan 2022</td> <th>  Prob (F-statistic):</th> <td>5.30e-20</td>\n",
       "</tr>\n",
       "<tr>\n",
       "  <th>Time:</th>                 <td>17:09:43</td>     <th>  Log-Likelihood:    </th> <td> -1786.1</td>\n",
       "</tr>\n",
       "<tr>\n",
       "  <th>No. Observations:</th>      <td>  5015</td>      <th>  AIC:               </th> <td>   3576.</td>\n",
       "</tr>\n",
       "<tr>\n",
       "  <th>Df Residuals:</th>          <td>  5013</td>      <th>  BIC:               </th> <td>   3589.</td>\n",
       "</tr>\n",
       "<tr>\n",
       "  <th>Df Model:</th>              <td>     1</td>      <th>                     </th>     <td> </td>   \n",
       "</tr>\n",
       "<tr>\n",
       "  <th>Covariance Type:</th>      <td>nonrobust</td>    <th>                     </th>     <td> </td>   \n",
       "</tr>\n",
       "</table>\n",
       "<table class=\"simpletable\">\n",
       "<tr>\n",
       "     <td></td>       <th>coef</th>     <th>std err</th>      <th>t</th>      <th>P>|t|</th>  <th>[0.025</th>    <th>0.975]</th>  \n",
       "</tr>\n",
       "<tr>\n",
       "  <th>const</th>  <td>    0.0650</td> <td>    0.005</td> <td>   13.018</td> <td> 0.000</td> <td>    0.055</td> <td>    0.075</td>\n",
       "</tr>\n",
       "<tr>\n",
       "  <th>e_lag1</th> <td>    0.1288</td> <td>    0.014</td> <td>    9.197</td> <td> 0.000</td> <td>    0.101</td> <td>    0.156</td>\n",
       "</tr>\n",
       "</table>\n",
       "<table class=\"simpletable\">\n",
       "<tr>\n",
       "  <th>Omnibus:</th>       <td>1227.783</td> <th>  Durbin-Watson:     </th> <td>   1.342</td>\n",
       "</tr>\n",
       "<tr>\n",
       "  <th>Prob(Omnibus):</th>  <td> 0.000</td>  <th>  Jarque-Bera (JB):  </th> <td>5796.949</td>\n",
       "</tr>\n",
       "<tr>\n",
       "  <th>Skew:</th>           <td> 1.105</td>  <th>  Prob(JB):          </th> <td>    0.00</td>\n",
       "</tr>\n",
       "<tr>\n",
       "  <th>Kurtosis:</th>       <td> 7.781</td>  <th>  Cond. No.          </th> <td>    2.89</td>\n",
       "</tr>\n",
       "</table><br/><br/>Notes:<br/>[1] Standard Errors assume that the covariance matrix of the errors is correctly specified."
      ],
      "text/plain": [
       "<class 'statsmodels.iolib.summary.Summary'>\n",
       "\"\"\"\n",
       "                            OLS Regression Results                            \n",
       "==============================================================================\n",
       "Dep. Variable:                      e   R-squared:                       0.017\n",
       "Model:                            OLS   Adj. R-squared:                  0.016\n",
       "Method:                 Least Squares   F-statistic:                     84.58\n",
       "Date:                Tue, 18 Jan 2022   Prob (F-statistic):           5.30e-20\n",
       "Time:                        17:09:43   Log-Likelihood:                -1786.1\n",
       "No. Observations:                5015   AIC:                             3576.\n",
       "Df Residuals:                    5013   BIC:                             3589.\n",
       "Df Model:                           1                                         \n",
       "Covariance Type:            nonrobust                                         \n",
       "==============================================================================\n",
       "                 coef    std err          t      P>|t|      [0.025      0.975]\n",
       "------------------------------------------------------------------------------\n",
       "const          0.0650      0.005     13.018      0.000       0.055       0.075\n",
       "e_lag1         0.1288      0.014      9.197      0.000       0.101       0.156\n",
       "==============================================================================\n",
       "Omnibus:                     1227.783   Durbin-Watson:                   1.342\n",
       "Prob(Omnibus):                  0.000   Jarque-Bera (JB):             5796.949\n",
       "Skew:                           1.105   Prob(JB):                         0.00\n",
       "Kurtosis:                       7.781   Cond. No.                         2.89\n",
       "==============================================================================\n",
       "\n",
       "Notes:\n",
       "[1] Standard Errors assume that the covariance matrix of the errors is correctly specified.\n",
       "\"\"\""
      ]
     },
     "execution_count": 44,
     "metadata": {},
     "output_type": "execute_result"
    }
   ],
   "source": [
    "ar_ols_fit.summary()"
   ]
  },
  {
   "cell_type": "code",
   "execution_count": 45,
   "metadata": {},
   "outputs": [],
   "source": [
    "def predict_agg_dow_ar(vol, agg_params, dow_factors, ar_params):\n",
    "    preds = predict_agg_dow(vol, agg_params, dow_factors)\n",
    "    err = perc_error(preds, vol)\n",
    "    pred_errors = ar_params[\"const\"] + ar_params[\"e_lag1\"] * err.shift(1)\n",
    "    preds = preds / (pred_errors + 1)\n",
    "    return preds"
   ]
  },
  {
   "cell_type": "markdown",
   "metadata": {},
   "source": [
    "Finally, let's see how model with all components performs out of sample, compared with previous models:"
   ]
  },
  {
   "cell_type": "code",
   "execution_count": 46,
   "metadata": {},
   "outputs": [],
   "source": [
    "ar_test_errors = {}\n",
    "for symbol, vol in test.groupby(\"symbol\"):\n",
    "    ar_preds = predict_agg_dow_ar(vol, agg_params, dow_factors, ar_params)\n",
    "    ar_test_errors[symbol] = abs_perc_error(ar_preds, vol).mean()\n",
    "ar_test_errors = pd.Series(ar_test_errors)"
   ]
  },
  {
   "cell_type": "code",
   "execution_count": 47,
   "metadata": {},
   "outputs": [
    {
     "data": {
      "text/html": [
       "<div>\n",
       "<style scoped>\n",
       "    .dataframe tbody tr th:only-of-type {\n",
       "        vertical-align: middle;\n",
       "    }\n",
       "\n",
       "    .dataframe tbody tr th {\n",
       "        vertical-align: top;\n",
       "    }\n",
       "\n",
       "    .dataframe thead th {\n",
       "        text-align: right;\n",
       "    }\n",
       "</style>\n",
       "<table border=\"1\" class=\"dataframe\">\n",
       "  <thead>\n",
       "    <tr style=\"text-align: right;\">\n",
       "      <th></th>\n",
       "      <th>Agg model</th>\n",
       "      <th>Agg-DoW model</th>\n",
       "      <th>Agg-DoW-AR model</th>\n",
       "    </tr>\n",
       "  </thead>\n",
       "  <tbody>\n",
       "    <tr>\n",
       "      <th>AAPL</th>\n",
       "      <td>0.1877</td>\n",
       "      <td>0.1876</td>\n",
       "      <td>0.1732</td>\n",
       "    </tr>\n",
       "    <tr>\n",
       "      <th>AMZN</th>\n",
       "      <td>0.2331</td>\n",
       "      <td>0.2306</td>\n",
       "      <td>0.2126</td>\n",
       "    </tr>\n",
       "    <tr>\n",
       "      <th>FB</th>\n",
       "      <td>0.2507</td>\n",
       "      <td>0.2513</td>\n",
       "      <td>0.2360</td>\n",
       "    </tr>\n",
       "    <tr>\n",
       "      <th>GOOG</th>\n",
       "      <td>0.2382</td>\n",
       "      <td>0.2374</td>\n",
       "      <td>0.2180</td>\n",
       "    </tr>\n",
       "    <tr>\n",
       "      <th>NFLX</th>\n",
       "      <td>0.2987</td>\n",
       "      <td>0.3005</td>\n",
       "      <td>0.2731</td>\n",
       "    </tr>\n",
       "  </tbody>\n",
       "</table>\n",
       "</div>"
      ],
      "text/plain": [
       "      Agg model  Agg-DoW model  Agg-DoW-AR model\n",
       "AAPL     0.1877         0.1876            0.1732\n",
       "AMZN     0.2331         0.2306            0.2126\n",
       "FB       0.2507         0.2513            0.2360\n",
       "GOOG     0.2382         0.2374            0.2180\n",
       "NFLX     0.2987         0.3005            0.2731"
      ]
     },
     "execution_count": 47,
     "metadata": {},
     "output_type": "execute_result"
    }
   ],
   "source": [
    "model_comparison = pd.concat(\n",
    "    [test_errors, dow_test_errors, ar_test_errors], axis=1\n",
    ").rename(columns=[\"Agg model\", \"Agg-DoW model\", \"Agg-DoW-AR model\"].__getitem__)\n",
    "model_comparison.round(4)"
   ]
  },
  {
   "cell_type": "code",
   "execution_count": 48,
   "metadata": {
    "scrolled": true
   },
   "outputs": [
    {
     "data": {
      "text/plain": [
       "Agg model           0.2417\n",
       "Agg-DoW model       0.2415\n",
       "Agg-DoW-AR model    0.2226\n",
       "dtype: float64"
      ]
     },
     "execution_count": 48,
     "metadata": {},
     "output_type": "execute_result"
    }
   ],
   "source": [
    "model_comparison.mean().round(4)"
   ]
  },
  {
   "cell_type": "markdown",
   "metadata": {},
   "source": [
    "Results presented above show that adding AR component led to performance improvements both overall and on a stock level."
   ]
  }
 ],
 "metadata": {
  "interpreter": {
   "hash": "9c2e4dabe88cfba82c08cf91d37a94cd742c5008596df9a9b2c5af95684cc41a"
  },
  "kernelspec": {
   "display_name": "Python 3",
   "language": "python",
   "name": "python3"
  },
  "language_info": {
   "codemirror_mode": {
    "name": "ipython",
    "version": 3
   },
   "file_extension": ".py",
   "mimetype": "text/x-python",
   "name": "python",
   "nbconvert_exporter": "python",
   "pygments_lexer": "ipython3",
   "version": "3.7.3"
  }
 },
 "nbformat": 4,
 "nbformat_minor": 2
}
